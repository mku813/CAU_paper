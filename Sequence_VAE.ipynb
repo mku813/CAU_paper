{
  "nbformat": 4,
  "nbformat_minor": 0,
  "metadata": {
    "colab": {
      "name": "Sequence_VAE.ipynb",
      "private_outputs": true,
      "provenance": [],
      "collapsed_sections": [],
      "mount_file_id": "1ygk7i-zLBjvz2ByylN260fdK56Kry1Qv",
      "authorship_tag": "ABX9TyPGOkgANloCMrX2OY5cJm8e",
      "include_colab_link": true
    },
    "kernelspec": {
      "name": "python3",
      "display_name": "Python 3"
    },
    "language_info": {
      "name": "python"
    }
  },
  "cells": [
    {
      "cell_type": "markdown",
      "metadata": {
        "id": "view-in-github",
        "colab_type": "text"
      },
      "source": [
        "<a href=\"https://colab.research.google.com/github/mku813/CAU_paper/blob/main/Sequence_VAE.ipynb\" target=\"_parent\"><img src=\"https://colab.research.google.com/assets/colab-badge.svg\" alt=\"Open In Colab\"/></a>"
      ]
    },
    {
      "cell_type": "markdown",
      "metadata": {
        "id": "I8MaFkbGLJZS"
      },
      "source": [
        "# Sequence VAE pytorch code\n",
        "\n",
        "- https://arxiv.org/abs/1511.06349 논문에서 쓰인 코드를 사용함.\n",
        "- 별 다른 코딩 없이, git에 있는 코드를 clone하여 model training 및 generate를 시도함.\n",
        "- 각 환경에 맞게 세팅하여 사용해야 함.(pytorch ver)"
      ]
    },
    {
      "cell_type": "markdown",
      "metadata": {
        "id": "dp8MtuJuQsRB"
      },
      "source": [
        "    주어진 code와 data를 사용하여 모델 training과 inference를 tutorial식으로 진행."
      ]
    },
    {
      "cell_type": "markdown",
      "metadata": {
        "id": "Kl8SIxA7H7mS"
      },
      "source": [
        "<br>\n",
        "<br>\n",
        "<br>\n",
        "<br>\n",
        "\n",
        "## git 사용 확인"
      ]
    },
    {
      "cell_type": "code",
      "metadata": {
        "id": "IAsrLZkp9fEO"
      },
      "source": [
        "!git"
      ],
      "execution_count": null,
      "outputs": []
    },
    {
      "cell_type": "markdown",
      "metadata": {
        "id": "qqjnuHotIBtK"
      },
      "source": [
        "<br>\n",
        "<br>\n",
        "<br>\n",
        "<br>\n",
        "\n",
        "## Clone git repo\n",
        "\n",
        "- https://github.com/timbmg/Sentence-VAE\n",
        "- 위의 주소로부터 pytorch 코드를 clone해옴."
      ]
    },
    {
      "cell_type": "code",
      "metadata": {
        "id": "FJUnAxYK9gRQ"
      },
      "source": [
        "!git clone https://github.com/timbmg/Sentence-VAE.git"
      ],
      "execution_count": null,
      "outputs": []
    },
    {
      "cell_type": "markdown",
      "metadata": {
        "id": "6aOleLxLMiUc"
      },
      "source": [
        "<br>\n",
        "<br>\n",
        "<br>\n",
        "<br>\n",
        "\n",
        "# Directory Setting\n",
        "\n",
        "- model training을 진행할 directory를 설정해야 함.\n",
        "- `train.py` 파일에서 184,210번째 line(data_dir, save_model_path argument)를 원하는 경로로 수정해야함."
      ]
    },
    {
      "cell_type": "code",
      "metadata": {
        "id": "5aCdPAT19mAn"
      },
      "source": [
        "!pwd"
      ],
      "execution_count": null,
      "outputs": []
    },
    {
      "cell_type": "markdown",
      "metadata": {
        "id": "EAmi8TlANUlt"
      },
      "source": [
        "<br>\n",
        "<br>\n",
        "<br>\n",
        "<br>\n",
        "\n",
        "## Data Getting\n",
        "\n",
        "- wget 명령어로 해당 데이터를 받아온다.\n",
        "  - linux 환경에서 가능\n",
        "  - window환경이면 wget을 설치해야 함.\n",
        "  - 이게 귀찮으면 아래 링크를 chrome에 입력하여 직접 다운받아 data 폴더를 만들고, 아래의 데이터만 넣어야 함.\n",
        "    - http://www.fit.vutbr.cz/~imikolov/rnnlm/simple-examples.tgz\n",
        "    - ptb.train.txt\n",
        "    - ptb.test.txt\n",
        "    - ptb.val.txt\n",
        "- 데이터를 받아오고 세팅하는 것은 downloaddata.sh 파일에 있음"
      ]
    },
    {
      "cell_type": "code",
      "metadata": {
        "id": "1FR9ifYY-uyf"
      },
      "source": [
        "!wget http://www.fit.vutbr.cz/~imikolov/rnnlm/simple-examples.tgz"
      ],
      "execution_count": null,
      "outputs": []
    },
    {
      "cell_type": "code",
      "metadata": {
        "id": "weI7B2DB-7Wc"
      },
      "source": [
        "!tar -xf /content/drive/MyDrive/CAU/Lab/Sentence-VAE/data/simple-examples.tgz"
      ],
      "execution_count": null,
      "outputs": []
    },
    {
      "cell_type": "markdown",
      "metadata": {
        "id": "FhJZ6c9zQB_7"
      },
      "source": [
        "<br>\n",
        "<br>\n",
        "<br>\n",
        "<br>\n",
        "\n",
        "## Training Model\n",
        "\n",
        "- 아래의 코드 한 줄로 모델을 훈련한다.\n",
        "  - 총 3시간 30분 정도 소요됨.(Colab 기준)"
      ]
    },
    {
      "cell_type": "code",
      "metadata": {
        "id": "UfrwwkjLB3vW"
      },
      "source": [
        "# !pip install tensorboardX"
      ],
      "execution_count": null,
      "outputs": []
    },
    {
      "cell_type": "code",
      "metadata": {
        "id": "NxMkldPT_Ok0"
      },
      "source": [
        "!python3 /content/drive/MyDrive/CAU/Lab/Sentence-VAE/train.py"
      ],
      "execution_count": null,
      "outputs": []
    },
    {
      "cell_type": "markdown",
      "metadata": {
        "id": "XizRmyB4OF41"
      },
      "source": [
        "## Inference(Generate Data)\n",
        "\n",
        "- `inference.py` 파일을 돌리는데, argument는 `n`과 `c`가 있다.\n",
        "  - `n`은 sample의 갯수를 의미하고\n",
        "  - `c`는 생성된 모델 중 어떤 것을 사용할지를 의미한다."
      ]
    },
    {
      "cell_type": "code",
      "metadata": {
        "id": "P0lsIsMlEcyS"
      },
      "source": [
        "!python3 /content/drive/MyDrive/CAU/Lab/Sentence-VAE/inference.py -n 2 -c /content/drive/MyDrive/CAU/Lab/Sentence-VAE/bin/2021-Aug-29-00:16:39/E2.pytorch"
      ],
      "execution_count": null,
      "outputs": []
    },
    {
      "cell_type": "code",
      "metadata": {
        "id": "lrLfrZr1-YfY"
      },
      "source": [
        "# !mv /content/dumps /content/drive/MyDrive/CAU/Lab/Sentence-VAE/"
      ],
      "execution_count": null,
      "outputs": []
    },
    {
      "cell_type": "markdown",
      "metadata": {
        "id": "7x4rJ5uGvPir"
      },
      "source": [
        "## Model\n",
        "\n",
        "![image.png](data:image/png;base64,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)"
      ]
    },
    {
      "cell_type": "markdown",
      "metadata": {
        "id": "YORHZqxKvbRQ"
      },
      "source": [
        "- 위의 그림대로 파일 구성이 이뤄져야함.\n",
        "- `bin`에 각 epoch마다의 model이 생성되고, 이를 이용하여 inference를 진행하면 된다."
      ]
    },
    {
      "cell_type": "code",
      "metadata": {
        "id": "Sn02ALb4Dz2u"
      },
      "source": [
        ""
      ],
      "execution_count": null,
      "outputs": []
    }
  ]
}
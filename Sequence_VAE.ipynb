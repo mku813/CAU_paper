{
  "nbformat": 4,
  "nbformat_minor": 0,
  "metadata": {
    "colab": {
      "name": "Sequence_VAE.ipynb",
      "private_outputs": true,
      "provenance": [],
      "collapsed_sections": [],
      "mount_file_id": "1ygk7i-zLBjvz2ByylN260fdK56Kry1Qv",
      "authorship_tag": "ABX9TyOOhOAJbOcu+BLiDvPWCQ6t",
      "include_colab_link": true
    },
    "kernelspec": {
      "name": "python3",
      "display_name": "Python 3"
    },
    "language_info": {
      "name": "python"
    }
  },
  "cells": [
    {
      "cell_type": "markdown",
      "metadata": {
        "id": "view-in-github",
        "colab_type": "text"
      },
      "source": [
        "<a href=\"https://colab.research.google.com/github/mku813/CAU_paper/blob/main/Sequence_VAE.ipynb\" target=\"_parent\"><img src=\"https://colab.research.google.com/assets/colab-badge.svg\" alt=\"Open In Colab\"/></a>"
      ]
    },
    {
      "cell_type": "markdown",
      "metadata": {
        "id": "I8MaFkbGLJZS"
      },
      "source": [
        "# Sequence VAE pytorch code\n",
        "\n",
        "- https://arxiv.org/abs/1511.06349 논문에서 쓰인 코드를 사용함.\n",
        "- 별 다른 코딩 없이, git에 있는 코드를 clone하여 model training 및 generate를 시도함.\n",
        "- 각 환경에 맞게 세팅하여 사용해야 함.(pytorch ver)"
      ]
    },
    {
      "cell_type": "markdown",
      "metadata": {
        "id": "dp8MtuJuQsRB"
      },
      "source": [
        "    우선, 주어진 code와 data를 사용하여 모델 training과 inference를 tutorial식으로 진행하고, 후에 custom data를 이용하여 진행."
      ]
    },
    {
      "cell_type": "markdown",
      "metadata": {
        "id": "Kl8SIxA7H7mS"
      },
      "source": [
        "<br>\n",
        "<br>\n",
        "<br>\n",
        "<br>\n",
        "\n",
        "## git 사용 확인"
      ]
    },
    {
      "cell_type": "code",
      "metadata": {
        "id": "IAsrLZkp9fEO"
      },
      "source": [
        "!git"
      ],
      "execution_count": null,
      "outputs": []
    },
    {
      "cell_type": "code",
      "metadata": {
        "id": "D9hcca6MLiWL"
      },
      "source": [
        "from google.colab import drive\n",
        "drive.mount('/content/drive')"
      ],
      "execution_count": null,
      "outputs": []
    },
    {
      "cell_type": "markdown",
      "metadata": {
        "id": "qqjnuHotIBtK"
      },
      "source": [
        "<br>\n",
        "<br>\n",
        "<br>\n",
        "<br>\n",
        "\n",
        "## Clone git repo\n",
        "\n",
        "- https://github.com/timbmg/Sentence-VAE\n",
        "- 위의 주소로부터 pytorch 코드를 clone해옴."
      ]
    },
    {
      "cell_type": "code",
      "metadata": {
        "id": "FJUnAxYK9gRQ"
      },
      "source": [
        "!git clone https://github.com/timbmg/Sentence-VAE.git"
      ],
      "execution_count": null,
      "outputs": []
    },
    {
      "cell_type": "markdown",
      "metadata": {
        "id": "6aOleLxLMiUc"
      },
      "source": [
        "<br>\n",
        "<br>\n",
        "<br>\n",
        "<br>\n",
        "\n",
        "# Directory Setting\n",
        "\n",
        "- model training을 진행할 directory를 설정해야 함.\n",
        "- `train.py` 파일에서 184,210번째 line(data_dir, save_model_path argument)를 원하는 경로로 수정해야함."
      ]
    },
    {
      "cell_type": "code",
      "metadata": {
        "id": "5aCdPAT19mAn"
      },
      "source": [
        "!pwd"
      ],
      "execution_count": null,
      "outputs": []
    },
    {
      "cell_type": "markdown",
      "metadata": {
        "id": "EAmi8TlANUlt"
      },
      "source": [
        "<br>\n",
        "<br>\n",
        "<br>\n",
        "<br>\n",
        "\n",
        "## Data Getting\n",
        "\n",
        "- wget 명령어로 해당 데이터를 받아온다.\n",
        "  - linux 환경에서 가능\n",
        "  - window환경이면 wget을 설치해야 함.\n",
        "  - 이게 귀찮으면 아래 링크를 chrome에 입력하여 직접 다운받아 data 폴더를 만들고, 아래의 데이터만 넣어야 함.\n",
        "    - http://www.fit.vutbr.cz/~imikolov/rnnlm/simple-examples.tgz\n",
        "    - ptb.train.txt\n",
        "    - ptb.test.txt\n",
        "    - ptb.val.txt\n",
        "- 데이터를 받아오고 세팅하는 것은 downloaddata.sh 파일에 있음"
      ]
    },
    {
      "cell_type": "code",
      "metadata": {
        "id": "1FR9ifYY-uyf"
      },
      "source": [
        "!wget http://www.fit.vutbr.cz/~imikolov/rnnlm/simple-examples.tgz"
      ],
      "execution_count": null,
      "outputs": []
    },
    {
      "cell_type": "code",
      "metadata": {
        "id": "weI7B2DB-7Wc"
      },
      "source": [
        "!tar -xf /content/drive/MyDrive/CAU/Lab/Sentence-VAE/data/simple-examples.tgz"
      ],
      "execution_count": null,
      "outputs": []
    },
    {
      "cell_type": "markdown",
      "metadata": {
        "id": "FhJZ6c9zQB_7"
      },
      "source": [
        "<br>\n",
        "<br>\n",
        "<br>\n",
        "<br>\n",
        "\n",
        "## Training Model\n",
        "\n",
        "- 아래의 코드 한 줄로 모델을 훈련한다.\n",
        "  - 총 3시간 30분 정도 소요됨.(Colab 기준)"
      ]
    },
    {
      "cell_type": "code",
      "metadata": {
        "id": "UfrwwkjLB3vW"
      },
      "source": [
        "# !pip install tensorboardX"
      ],
      "execution_count": null,
      "outputs": []
    },
    {
      "cell_type": "code",
      "metadata": {
        "id": "NxMkldPT_Ok0"
      },
      "source": [
        "!python3 /content/drive/MyDrive/CAU/Lab/Sentence-VAE/train.py"
      ],
      "execution_count": null,
      "outputs": []
    },
    {
      "cell_type": "markdown",
      "metadata": {
        "id": "XizRmyB4OF41"
      },
      "source": [
        "## Inference(Generate Data)\n",
        "\n",
        "- `inference.py` 파일을 돌리는데, argument는 `n`과 `c`가 있다.\n",
        "  - `n`은 sample의 갯수를 의미하고\n",
        "  - `c`는 생성된 모델 중 어떤 것을 사용할지를 의미한다."
      ]
    },
    {
      "cell_type": "code",
      "metadata": {
        "id": "P0lsIsMlEcyS"
      },
      "source": [
        "!python3 /content/drive/MyDrive/CAU/Lab/Sentence-VAE/inference.py -n 2 -c /content/drive/MyDrive/CAU/Lab/Sentence-VAE/bin/2021-Aug-29-00:16:39/E2.pytorch"
      ],
      "execution_count": null,
      "outputs": []
    },
    {
      "cell_type": "code",
      "metadata": {
        "id": "lrLfrZr1-YfY"
      },
      "source": [
        "# !mv /content/dumps /content/drive/MyDrive/CAU/Lab/Sentence-VAE/"
      ],
      "execution_count": null,
      "outputs": []
    },
    {
      "cell_type": "code",
      "metadata": {
        "id": "Sn02ALb4Dz2u"
      },
      "source": [
        ""
      ],
      "execution_count": null,
      "outputs": []
    }
  ]
}
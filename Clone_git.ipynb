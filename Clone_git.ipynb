{
  "nbformat": 4,
  "nbformat_minor": 0,
  "metadata": {
    "colab": {
      "name": "Untitled1.ipynb",
      "private_outputs": true,
      "provenance": [],
      "mount_file_id": "1ygk7i-zLBjvz2ByylN260fdK56Kry1Qv",
      "authorship_tag": "ABX9TyPgWW5zAQn/CFkxoPCnjjGM",
      "include_colab_link": true
    },
    "kernelspec": {
      "name": "python3",
      "display_name": "Python 3"
    },
    "language_info": {
      "name": "python"
    }
  },
  "cells": [
    {
      "cell_type": "markdown",
      "metadata": {
        "id": "view-in-github",
        "colab_type": "text"
      },
      "source": [
        "<a href=\"https://colab.research.google.com/github/mku813/CAU_paper/blob/main/Clone_git.ipynb\" target=\"_parent\"><img src=\"https://colab.research.google.com/assets/colab-badge.svg\" alt=\"Open In Colab\"/></a>"
      ]
    },
    {
      "cell_type": "markdown",
      "metadata": {
        "id": "Kl8SIxA7H7mS"
      },
      "source": [
        "## git 사용 확인"
      ]
    },
    {
      "cell_type": "code",
      "metadata": {
        "id": "IAsrLZkp9fEO"
      },
      "source": [
        "!git"
      ],
      "execution_count": null,
      "outputs": []
    },
    {
      "cell_type": "markdown",
      "metadata": {
        "id": "qqjnuHotIBtK"
      },
      "source": [
        "## Clone해오기\n",
        "\n",
        "- https://github.com/timbmg/Sentence-VAE\n",
        "- 위의 주소로부터 "
      ]
    },
    {
      "cell_type": "code",
      "metadata": {
        "id": "FJUnAxYK9gRQ"
      },
      "source": [
        "!git clone https://github.com/timbmg/Sentence-VAE.git"
      ],
      "execution_count": null,
      "outputs": []
    },
    {
      "cell_type": "code",
      "metadata": {
        "id": "5aCdPAT19mAn"
      },
      "source": [
        "!pwd"
      ],
      "execution_count": null,
      "outputs": []
    },
    {
      "cell_type": "code",
      "metadata": {
        "id": "PcxXsNot9zVp"
      },
      "source": [
        "!cd /content/drive/MyDrive/CAU/Lab"
      ],
      "execution_count": null,
      "outputs": []
    },
    {
      "cell_type": "code",
      "metadata": {
        "id": "1BuMpEwa-CHT"
      },
      "source": [
        "!mv /content/Sentence-VAE /content/drive/MyDrive/CAU/Lab"
      ],
      "execution_count": null,
      "outputs": []
    },
    {
      "cell_type": "code",
      "metadata": {
        "id": "WLeplYfV-NMf"
      },
      "source": [
        "!pwd"
      ],
      "execution_count": null,
      "outputs": []
    },
    {
      "cell_type": "code",
      "metadata": {
        "id": "w38bOBvA-V02"
      },
      "source": [
        "! mkdir /content/drive/MyDrive/CAU/Lab/Sentence-VAE/data"
      ],
      "execution_count": null,
      "outputs": []
    },
    {
      "cell_type": "code",
      "metadata": {
        "id": "1FR9ifYY-uyf"
      },
      "source": [
        "!wget http://www.fit.vutbr.cz/~imikolov/rnnlm/simple-examples.tgz"
      ],
      "execution_count": null,
      "outputs": []
    },
    {
      "cell_type": "code",
      "metadata": {
        "id": "Wt03Lzje-xTM"
      },
      "source": [
        "!mv ./simple-examples.tgz /content/drive/MyDrive/CAU/Lab/Sentence-VAE/data"
      ],
      "execution_count": null,
      "outputs": []
    },
    {
      "cell_type": "code",
      "metadata": {
        "id": "weI7B2DB-7Wc"
      },
      "source": [
        "!tar -xf /content/drive/MyDrive/CAU/Lab/Sentence-VAE/data/simple-examples.tgz"
      ],
      "execution_count": null,
      "outputs": []
    },
    {
      "cell_type": "code",
      "metadata": {
        "id": "gk_oTc0FABlX"
      },
      "source": [
        "!pip install tensorboardX"
      ],
      "execution_count": null,
      "outputs": []
    },
    {
      "cell_type": "code",
      "metadata": {
        "id": "NxMkldPT_Ok0"
      },
      "source": [
        "!python3 /content/drive/MyDrive/CAU/Lab/Sentence-VAE/train.py"
      ],
      "execution_count": null,
      "outputs": []
    },
    {
      "cell_type": "code",
      "metadata": {
        "id": "Az_jlonKBO2v"
      },
      "source": [
        ""
      ],
      "execution_count": null,
      "outputs": []
    }
  ]
}